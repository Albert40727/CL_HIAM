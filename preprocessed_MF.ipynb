{
 "cells": [
  {
   "cell_type": "code",
   "execution_count": 11,
   "metadata": {},
   "outputs": [],
   "source": [
    "import pandas as pd\n",
    "import numpy as np\n",
    "from sklearn.decomposition import NMF\n",
    "import torch"
   ]
  },
  {
   "attachments": {},
   "cell_type": "markdown",
   "metadata": {},
   "source": [
    "<font size=5> Matrix Factorization </font>"
   ]
  },
  {
   "cell_type": "code",
   "execution_count": 4,
   "metadata": {},
   "outputs": [
    {
     "data": {
      "text/html": [
       "<div>\n",
       "<style scoped>\n",
       "    .dataframe tbody tr th:only-of-type {\n",
       "        vertical-align: middle;\n",
       "    }\n",
       "\n",
       "    .dataframe tbody tr th {\n",
       "        vertical-align: top;\n",
       "    }\n",
       "\n",
       "    .dataframe thead th {\n",
       "        text-align: right;\n",
       "    }\n",
       "</style>\n",
       "<table border=\"1\" class=\"dataframe\">\n",
       "  <thead>\n",
       "    <tr style=\"text-align: right;\">\n",
       "      <th></th>\n",
       "      <th>AppID</th>\n",
       "      <th>UserID</th>\n",
       "      <th>Like</th>\n",
       "      <th>Interacted</th>\n",
       "    </tr>\n",
       "  </thead>\n",
       "  <tbody>\n",
       "    <tr>\n",
       "      <th>0</th>\n",
       "      <td>945360</td>\n",
       "      <td>76561197996720254</td>\n",
       "      <td>1</td>\n",
       "      <td>1</td>\n",
       "    </tr>\n",
       "    <tr>\n",
       "      <th>1</th>\n",
       "      <td>945360</td>\n",
       "      <td>76561198133726836</td>\n",
       "      <td>1</td>\n",
       "      <td>1</td>\n",
       "    </tr>\n",
       "    <tr>\n",
       "      <th>2</th>\n",
       "      <td>945360</td>\n",
       "      <td>76561198271396832</td>\n",
       "      <td>1</td>\n",
       "      <td>1</td>\n",
       "    </tr>\n",
       "    <tr>\n",
       "      <th>3</th>\n",
       "      <td>945360</td>\n",
       "      <td>76561198083568932</td>\n",
       "      <td>0</td>\n",
       "      <td>1</td>\n",
       "    </tr>\n",
       "    <tr>\n",
       "      <th>4</th>\n",
       "      <td>945360</td>\n",
       "      <td>76561198123845513</td>\n",
       "      <td>1</td>\n",
       "      <td>1</td>\n",
       "    </tr>\n",
       "  </tbody>\n",
       "</table>\n",
       "</div>"
      ],
      "text/plain": [
       "    AppID             UserID  Like  Interacted\n",
       "0  945360  76561197996720254     1           1\n",
       "1  945360  76561198133726836     1           1\n",
       "2  945360  76561198271396832     1           1\n",
       "3  945360  76561198083568932     0           1\n",
       "4  945360  76561198123845513     1           1"
      ]
     },
     "execution_count": 4,
     "metadata": {},
     "output_type": "execute_result"
    }
   ],
   "source": [
    "# 117715 筆資料\n",
    "df = pd.read_pickle(r'../data/filtered_reviews_group.pkl')\n",
    "df = df[[\"AppID\",\"UserID\",\"Like\"]]\n",
    "df['Interacted'] = 1\n",
    "df.head()"
   ]
  },
  {
   "cell_type": "code",
   "execution_count": 13,
   "metadata": {},
   "outputs": [],
   "source": [
    "def get_trainVector(df, user_train_set):\n",
    "    business_ids = list(df.columns)\n",
    "    user_ids = list(df.index)\n",
    "    return [ [1 if business_id in user_train_set[user_id] else 0 for business_id in business_ids ] for user_id in tqdm(user_ids)]"
   ]
  },
  {
   "cell_type": "code",
   "execution_count": 12,
   "metadata": {},
   "outputs": [
    {
     "ename": "NameError",
     "evalue": "name 'train_test_random_split' is not defined",
     "output_type": "error",
     "traceback": [
      "\u001b[1;31m---------------------------------------------------------------------------\u001b[0m",
      "\u001b[1;31mNameError\u001b[0m                                 Traceback (most recent call last)",
      "\u001b[1;32mc:\\Users\\USER\\Desktop\\陽明交通大學\\林書呈論文\\code\\preprocessed_MF.ipynb Cell 4\u001b[0m in \u001b[0;36m4\n\u001b[0;32m      <a href='vscode-notebook-cell:/c%3A/Users/USER/Desktop/%E9%99%BD%E6%98%8E%E4%BA%A4%E9%80%9A%E5%A4%A7%E5%AD%B8/%E6%9E%97%E6%9B%B8%E5%91%88%E8%AB%96%E6%96%87/code/preprocessed_MF.ipynb#X25sZmlsZQ%3D%3D?line=1'>2</a>\u001b[0m interaction_matrix \u001b[39m=\u001b[39m df\u001b[39m.\u001b[39mpivot_table(index\u001b[39m=\u001b[39m\u001b[39m'\u001b[39m\u001b[39mUserID\u001b[39m\u001b[39m'\u001b[39m, columns\u001b[39m=\u001b[39m\u001b[39m'\u001b[39m\u001b[39mAppID\u001b[39m\u001b[39m'\u001b[39m, values\u001b[39m=\u001b[39m\u001b[39m'\u001b[39m\u001b[39mInteracted\u001b[39m\u001b[39m'\u001b[39m)\u001b[39m.\u001b[39mfillna(\u001b[39m0\u001b[39m)\n\u001b[0;32m      <a href='vscode-notebook-cell:/c%3A/Users/USER/Desktop/%E9%99%BD%E6%98%8E%E4%BA%A4%E9%80%9A%E5%A4%A7%E5%AD%B8/%E6%9E%97%E6%9B%B8%E5%91%88%E8%AB%96%E6%96%87/code/preprocessed_MF.ipynb#X25sZmlsZQ%3D%3D?line=2'>3</a>\u001b[0m rating_matrix \u001b[39m=\u001b[39m df\u001b[39m.\u001b[39mpivot_table(index\u001b[39m=\u001b[39m\u001b[39m'\u001b[39m\u001b[39mUserID\u001b[39m\u001b[39m'\u001b[39m, columns\u001b[39m=\u001b[39m\u001b[39m'\u001b[39m\u001b[39mAppID\u001b[39m\u001b[39m'\u001b[39m, values\u001b[39m=\u001b[39m\u001b[39m'\u001b[39m\u001b[39mLike\u001b[39m\u001b[39m'\u001b[39m)\u001b[39m.\u001b[39mfillna(\u001b[39m0\u001b[39m)\n\u001b[1;32m----> <a href='vscode-notebook-cell:/c%3A/Users/USER/Desktop/%E9%99%BD%E6%98%8E%E4%BA%A4%E9%80%9A%E5%A4%A7%E5%AD%B8/%E6%9E%97%E6%9B%B8%E5%91%88%E8%AB%96%E6%96%87/code/preprocessed_MF.ipynb#X25sZmlsZQ%3D%3D?line=3'>4</a>\u001b[0m user_train_set, user_test_data \u001b[39m=\u001b[39m train_test_random_split(interaction_matrix, \u001b[39m0.8\u001b[39m)\n\u001b[0;32m      <a href='vscode-notebook-cell:/c%3A/Users/USER/Desktop/%E9%99%BD%E6%98%8E%E4%BA%A4%E9%80%9A%E5%A4%A7%E5%AD%B8/%E6%9E%97%E6%9B%B8%E5%91%88%E8%AB%96%E6%96%87/code/preprocessed_MF.ipynb#X25sZmlsZQ%3D%3D?line=4'>5</a>\u001b[0m trainVector \u001b[39m=\u001b[39m torch\u001b[39m.\u001b[39mtensor(get_trainVector(interaction_matrix, user_train_set))\u001b[39m.\u001b[39mto(torch\u001b[39m.\u001b[39mfloat32)\n",
      "\u001b[1;31mNameError\u001b[0m: name 'train_test_random_split' is not defined"
     ]
    }
   ],
   "source": [
    "# construct rating matrix and interaction matrix\n",
    "interaction_matrix = df.pivot_table(index='UserID', columns='AppID', values='Interacted').fillna(0)\n",
    "rating_matrix = df.pivot_table(index='UserID', columns='AppID', values='Like').fillna(0)\n",
    "trainVector = torch.tensor(get_trainVector(interaction_matrix, user_train_set)).to(torch.float32)"
   ]
  },
  {
   "cell_type": "code",
   "execution_count": 79,
   "metadata": {},
   "outputs": [
    {
     "name": "stdout",
     "output_type": "stream",
     "text": [
      "(4304, 128)\n"
     ]
    }
   ],
   "source": [
    "def matrix_factorization(matrix):\n",
    "    # n_components is embedding dimension。vervose=1 顯示訓練過程\n",
    "    model = NMF(n_components=128, init='random', random_state=0, verbose=0)\n",
    "    user_embeddings = model.fit_transform(trainVector*matrix.values)\n",
    "    # 轉成 float32 有兩種寫法\n",
    "    encoded_user_embeddings = np.asarray(user_embeddings, dtype=np.float32)\n",
    "    app_embeddings = model.components_.T\n",
    "    encoded_app_embeddings = np.asarray(app_embeddings.astype('float32'))\n",
    "    print(encoded_user_embeddings.shape)\n",
    "    user_id_emb = dict( zip(matrix.index, encoded_user_embeddings) )\n",
    "    app_id_emb = dict( zip(matrix.columns, encoded_app_embeddings) )\n",
    "\n",
    "    return user_id_emb, app_id_emb\n",
    "\n",
    "user_id_emb, app_id_emb = matrix_factorization(rating_matrix)"
   ]
  }
 ],
 "metadata": {
  "kernelspec": {
   "display_name": "paper",
   "language": "python",
   "name": "python3"
  },
  "language_info": {
   "codemirror_mode": {
    "name": "ipython",
    "version": 3
   },
   "file_extension": ".py",
   "mimetype": "text/x-python",
   "name": "python",
   "nbconvert_exporter": "python",
   "pygments_lexer": "ipython3",
   "version": "3.8.15"
  },
  "orig_nbformat": 4,
  "vscode": {
   "interpreter": {
    "hash": "1c0114bf4ae83c0c5265a1248268e9d5cc21b45882a20043cece1005fc515b08"
   }
  }
 },
 "nbformat": 4,
 "nbformat_minor": 2
}
